{
 "cells": [
  {
   "cell_type": "code",
   "execution_count": 1,
   "metadata": {},
   "outputs": [],
   "source": [
    "import mne\n",
    "import os\n",
    "import numpy as np\n",
    "import matplotlib.pyplot as plt\n",
    "import pandas as pd"
   ]
  },
  {
   "cell_type": "markdown",
   "metadata": {},
   "source": [
    "# Get all CSVs"
   ]
  },
  {
   "cell_type": "code",
   "execution_count": 2,
   "metadata": {},
   "outputs": [],
   "source": [
    "parent_path = \"..\"\n",
    "data_folder = \"data\"\n",
    "type_of_data = \"All_Data\""
   ]
  },
  {
   "cell_type": "code",
   "execution_count": 3,
   "metadata": {},
   "outputs": [
    {
     "name": "stdout",
     "output_type": "stream",
     "text": [
      "10409598\n",
      "\n",
      "10409598\n"
     ]
    },
    {
     "data": {
      "text/html": [
       "<div>\n",
       "<style scoped>\n",
       "    .dataframe tbody tr th:only-of-type {\n",
       "        vertical-align: middle;\n",
       "    }\n",
       "\n",
       "    .dataframe tbody tr th {\n",
       "        vertical-align: top;\n",
       "    }\n",
       "\n",
       "    .dataframe thead th {\n",
       "        text-align: right;\n",
       "    }\n",
       "</style>\n",
       "<table border=\"1\" class=\"dataframe\">\n",
       "  <thead>\n",
       "    <tr style=\"text-align: right;\">\n",
       "      <th></th>\n",
       "      <th>Patient</th>\n",
       "      <th>FileName</th>\n",
       "      <th>Amplitude</th>\n",
       "      <th>Label</th>\n",
       "    </tr>\n",
       "  </thead>\n",
       "  <tbody>\n",
       "    <tr>\n",
       "      <th>0</th>\n",
       "      <td>P1</td>\n",
       "      <td>../data/All_Data/MarRi_2_0001.csv</td>\n",
       "      <td>4.433064e-09</td>\n",
       "      <td>1</td>\n",
       "    </tr>\n",
       "    <tr>\n",
       "      <th>1</th>\n",
       "      <td>P1</td>\n",
       "      <td>../data/All_Data/MarRi_2_0001.csv</td>\n",
       "      <td>3.888540e-07</td>\n",
       "      <td>1</td>\n",
       "    </tr>\n",
       "    <tr>\n",
       "      <th>2</th>\n",
       "      <td>P1</td>\n",
       "      <td>../data/All_Data/MarRi_2_0001.csv</td>\n",
       "      <td>7.730757e-07</td>\n",
       "      <td>1</td>\n",
       "    </tr>\n",
       "    <tr>\n",
       "      <th>3</th>\n",
       "      <td>P1</td>\n",
       "      <td>../data/All_Data/MarRi_2_0001.csv</td>\n",
       "      <td>1.156901e-06</td>\n",
       "      <td>1</td>\n",
       "    </tr>\n",
       "    <tr>\n",
       "      <th>4</th>\n",
       "      <td>P1</td>\n",
       "      <td>../data/All_Data/MarRi_2_0001.csv</td>\n",
       "      <td>1.540133e-06</td>\n",
       "      <td>1</td>\n",
       "    </tr>\n",
       "    <tr>\n",
       "      <th>...</th>\n",
       "      <td>...</td>\n",
       "      <td>...</td>\n",
       "      <td>...</td>\n",
       "      <td>...</td>\n",
       "    </tr>\n",
       "    <tr>\n",
       "      <th>10409593</th>\n",
       "      <td>P19</td>\n",
       "      <td>../data/All_Data/MarRi_2_0007.csv</td>\n",
       "      <td>2.263758e-06</td>\n",
       "      <td>1</td>\n",
       "    </tr>\n",
       "    <tr>\n",
       "      <th>10409594</th>\n",
       "      <td>P19</td>\n",
       "      <td>../data/All_Data/MarRi_2_0007.csv</td>\n",
       "      <td>1.698072e-06</td>\n",
       "      <td>1</td>\n",
       "    </tr>\n",
       "    <tr>\n",
       "      <th>10409595</th>\n",
       "      <td>P19</td>\n",
       "      <td>../data/All_Data/MarRi_2_0007.csv</td>\n",
       "      <td>1.131383e-06</td>\n",
       "      <td>1</td>\n",
       "    </tr>\n",
       "    <tr>\n",
       "      <th>10409596</th>\n",
       "      <td>P19</td>\n",
       "      <td>../data/All_Data/MarRi_2_0007.csv</td>\n",
       "      <td>5.640244e-07</td>\n",
       "      <td>1</td>\n",
       "    </tr>\n",
       "    <tr>\n",
       "      <th>10409597</th>\n",
       "      <td>P19</td>\n",
       "      <td>../data/All_Data/MarRi_2_0007.csv</td>\n",
       "      <td>-3.667991e-09</td>\n",
       "      <td>1</td>\n",
       "    </tr>\n",
       "  </tbody>\n",
       "</table>\n",
       "<p>10409598 rows × 4 columns</p>\n",
       "</div>"
      ],
      "text/plain": [
       "         Patient                           FileName     Amplitude  Label\n",
       "0             P1  ../data/All_Data/MarRi_2_0001.csv  4.433064e-09      1\n",
       "1             P1  ../data/All_Data/MarRi_2_0001.csv  3.888540e-07      1\n",
       "2             P1  ../data/All_Data/MarRi_2_0001.csv  7.730757e-07      1\n",
       "3             P1  ../data/All_Data/MarRi_2_0001.csv  1.156901e-06      1\n",
       "4             P1  ../data/All_Data/MarRi_2_0001.csv  1.540133e-06      1\n",
       "...          ...                                ...           ...    ...\n",
       "10409593     P19  ../data/All_Data/MarRi_2_0007.csv  2.263758e-06      1\n",
       "10409594     P19  ../data/All_Data/MarRi_2_0007.csv  1.698072e-06      1\n",
       "10409595     P19  ../data/All_Data/MarRi_2_0007.csv  1.131383e-06      1\n",
       "10409596     P19  ../data/All_Data/MarRi_2_0007.csv  5.640244e-07      1\n",
       "10409597     P19  ../data/All_Data/MarRi_2_0007.csv -3.667991e-09      1\n",
       "\n",
       "[10409598 rows x 4 columns]"
      ]
     },
     "metadata": {},
     "output_type": "display_data"
    }
   ],
   "source": [
    "X = [] # X is the amplitude \n",
    "y = [] # y is the predicted label\n",
    "patient = []\n",
    "fileName = []\n",
    "directory = os.path.join(parent_path,data_folder,type_of_data)\n",
    "for root,dirs,files in os.walk(directory):\n",
    "    patientCount =  1\n",
    "    for file in files:\n",
    "        if file.endswith(\".csv\"):\n",
    "            df = pd.read_csv(os.path.join(parent_path,data_folder,type_of_data,file))\n",
    "            df[\"label\"] = df[\"label\"].astype(int)\n",
    "            currentLen = len(df['y'].tolist()) \n",
    "            X.extend(df['y'].tolist())\n",
    "            y.extend(df['label'].tolist())\n",
    "            for i in range(0,currentLen):\n",
    "                patient.append(\"P\"+str(patientCount))\n",
    "                fileName.append(os.path.join(parent_path,data_folder,type_of_data,file))\n",
    "            patientCount = patientCount + 1\n",
    "            \n",
    "dict_to_add = {\"Patient\":patient,\"FileName\": fileName,\"Amplitude\":X,\"Label\":y}\n",
    "df_dataset = pd.DataFrame.from_dict(dict_to_add)\n",
    "print(len(X))\n",
    "print()\n",
    "print(len(y))\n",
    "display(df_dataset)"
   ]
  },
  {
   "cell_type": "code",
   "execution_count": 4,
   "metadata": {},
   "outputs": [],
   "source": [
    "#df_dataset.to_csv(\"Dataset.csv\")"
   ]
  },
  {
   "cell_type": "code",
   "execution_count": 5,
   "metadata": {},
   "outputs": [
    {
     "data": {
      "text/html": [
       "<div>\n",
       "<style scoped>\n",
       "    .dataframe tbody tr th:only-of-type {\n",
       "        vertical-align: middle;\n",
       "    }\n",
       "\n",
       "    .dataframe tbody tr th {\n",
       "        vertical-align: top;\n",
       "    }\n",
       "\n",
       "    .dataframe thead th {\n",
       "        text-align: right;\n",
       "    }\n",
       "</style>\n",
       "<table border=\"1\" class=\"dataframe\">\n",
       "  <thead>\n",
       "    <tr style=\"text-align: right;\">\n",
       "      <th></th>\n",
       "      <th>Patient</th>\n",
       "      <th>FileName</th>\n",
       "      <th>Amplitude</th>\n",
       "      <th>Label</th>\n",
       "    </tr>\n",
       "  </thead>\n",
       "  <tbody>\n",
       "    <tr>\n",
       "      <th>0</th>\n",
       "      <td>P1</td>\n",
       "      <td>../data/All_Data/MarRi_2_0001.csv</td>\n",
       "      <td>4.433064e-09</td>\n",
       "      <td>1</td>\n",
       "    </tr>\n",
       "    <tr>\n",
       "      <th>1</th>\n",
       "      <td>P1</td>\n",
       "      <td>../data/All_Data/MarRi_2_0001.csv</td>\n",
       "      <td>3.888540e-07</td>\n",
       "      <td>1</td>\n",
       "    </tr>\n",
       "    <tr>\n",
       "      <th>2</th>\n",
       "      <td>P1</td>\n",
       "      <td>../data/All_Data/MarRi_2_0001.csv</td>\n",
       "      <td>7.730757e-07</td>\n",
       "      <td>1</td>\n",
       "    </tr>\n",
       "    <tr>\n",
       "      <th>3</th>\n",
       "      <td>P1</td>\n",
       "      <td>../data/All_Data/MarRi_2_0001.csv</td>\n",
       "      <td>1.156901e-06</td>\n",
       "      <td>1</td>\n",
       "    </tr>\n",
       "    <tr>\n",
       "      <th>4</th>\n",
       "      <td>P1</td>\n",
       "      <td>../data/All_Data/MarRi_2_0001.csv</td>\n",
       "      <td>1.540133e-06</td>\n",
       "      <td>1</td>\n",
       "    </tr>\n",
       "    <tr>\n",
       "      <th>...</th>\n",
       "      <td>...</td>\n",
       "      <td>...</td>\n",
       "      <td>...</td>\n",
       "      <td>...</td>\n",
       "    </tr>\n",
       "    <tr>\n",
       "      <th>10409593</th>\n",
       "      <td>P19</td>\n",
       "      <td>../data/All_Data/MarRi_2_0007.csv</td>\n",
       "      <td>2.263758e-06</td>\n",
       "      <td>1</td>\n",
       "    </tr>\n",
       "    <tr>\n",
       "      <th>10409594</th>\n",
       "      <td>P19</td>\n",
       "      <td>../data/All_Data/MarRi_2_0007.csv</td>\n",
       "      <td>1.698072e-06</td>\n",
       "      <td>1</td>\n",
       "    </tr>\n",
       "    <tr>\n",
       "      <th>10409595</th>\n",
       "      <td>P19</td>\n",
       "      <td>../data/All_Data/MarRi_2_0007.csv</td>\n",
       "      <td>1.131383e-06</td>\n",
       "      <td>1</td>\n",
       "    </tr>\n",
       "    <tr>\n",
       "      <th>10409596</th>\n",
       "      <td>P19</td>\n",
       "      <td>../data/All_Data/MarRi_2_0007.csv</td>\n",
       "      <td>5.640244e-07</td>\n",
       "      <td>1</td>\n",
       "    </tr>\n",
       "    <tr>\n",
       "      <th>10409597</th>\n",
       "      <td>P19</td>\n",
       "      <td>../data/All_Data/MarRi_2_0007.csv</td>\n",
       "      <td>-3.667991e-09</td>\n",
       "      <td>1</td>\n",
       "    </tr>\n",
       "  </tbody>\n",
       "</table>\n",
       "<p>10409598 rows × 4 columns</p>\n",
       "</div>"
      ],
      "text/plain": [
       "         Patient                           FileName     Amplitude  Label\n",
       "0             P1  ../data/All_Data/MarRi_2_0001.csv  4.433064e-09      1\n",
       "1             P1  ../data/All_Data/MarRi_2_0001.csv  3.888540e-07      1\n",
       "2             P1  ../data/All_Data/MarRi_2_0001.csv  7.730757e-07      1\n",
       "3             P1  ../data/All_Data/MarRi_2_0001.csv  1.156901e-06      1\n",
       "4             P1  ../data/All_Data/MarRi_2_0001.csv  1.540133e-06      1\n",
       "...          ...                                ...           ...    ...\n",
       "10409593     P19  ../data/All_Data/MarRi_2_0007.csv  2.263758e-06      1\n",
       "10409594     P19  ../data/All_Data/MarRi_2_0007.csv  1.698072e-06      1\n",
       "10409595     P19  ../data/All_Data/MarRi_2_0007.csv  1.131383e-06      1\n",
       "10409596     P19  ../data/All_Data/MarRi_2_0007.csv  5.640244e-07      1\n",
       "10409597     P19  ../data/All_Data/MarRi_2_0007.csv -3.667991e-09      1\n",
       "\n",
       "[10409598 rows x 4 columns]"
      ]
     },
     "execution_count": 5,
     "metadata": {},
     "output_type": "execute_result"
    }
   ],
   "source": [
    "df_dataset"
   ]
  },
  {
   "cell_type": "code",
   "execution_count": 6,
   "metadata": {},
   "outputs": [],
   "source": [
    "p1_df = df_dataset[df_dataset[\"Patient\"] == \"P1\"]\n",
    "p2_df = df_dataset[df_dataset[\"Patient\"] == \"P19\"]"
   ]
  },
  {
   "cell_type": "code",
   "execution_count": 7,
   "metadata": {},
   "outputs": [],
   "source": [
    "X_train = p1_df[\"Amplitude\"].to_numpy().reshape(-1,1)\n",
    "y_train = p1_df[\"Label\"].to_numpy().reshape(-1,1)\n",
    "X_test = p2_df[\"Amplitude\"].to_numpy().reshape(-1,1)\n",
    "y_test = p2_df[\"Label\"].to_numpy().reshape(-1,1)"
   ]
  },
  {
   "cell_type": "code",
   "execution_count": 8,
   "metadata": {},
   "outputs": [
    {
     "name": "stdout",
     "output_type": "stream",
     "text": [
      "(330550, 1)\n"
     ]
    }
   ],
   "source": [
    "print(X_train.shape)"
   ]
  },
  {
   "cell_type": "code",
   "execution_count": null,
   "metadata": {},
   "outputs": [],
   "source": [
    "from sklearn.linear_model import LogisticRegression\n",
    "from sklearn.svm import SVC\n",
    "logisticRegr = LogisticRegression()\n",
    "logisticRegr = SVC()\n",
    "logisticRegr.fit(X_train, y_train)"
   ]
  },
  {
   "cell_type": "code",
   "execution_count": null,
   "metadata": {},
   "outputs": [],
   "source": [
    "predictions = logisticRegr.predict(X_test)"
   ]
  },
  {
   "cell_type": "code",
   "execution_count": null,
   "metadata": {},
   "outputs": [],
   "source": [
    "score = logisticRegr.score(X_test, y_test)\n",
    "print(score)"
   ]
  },
  {
   "cell_type": "code",
   "execution_count": null,
   "metadata": {},
   "outputs": [],
   "source": [
    "import matplotlib.pyplot as plt\n",
    "import seaborn as sns\n",
    "from sklearn import metrics"
   ]
  },
  {
   "cell_type": "code",
   "execution_count": null,
   "metadata": {},
   "outputs": [],
   "source": [
    "cm = metrics.confusion_matrix(y_test, predictions)\n",
    "print(cm)"
   ]
  },
  {
   "cell_type": "code",
   "execution_count": null,
   "metadata": {},
   "outputs": [],
   "source": [
    "plt.figure(figsize=(9,9))\n",
    "plt.imshow(cm, interpolation='nearest', cmap='Pastel1')\n",
    "plt.title('Confusion matrix', size = 15)\n",
    "plt.colorbar()\n",
    "tick_marks = np.arange(2)\n",
    "plt.xticks(tick_marks, [\"0\", \"1\"], rotation=0, size = 10)\n",
    "plt.yticks(tick_marks, [\"0\", \"1\"], size = 10)\n",
    "plt.tight_layout()\n",
    "plt.ylabel('Actual label', size = 15)\n",
    "plt.xlabel('Predicted label', size = 15)\n",
    "width, height = cm.shape \n",
    "for x in range(width):\n",
    "    for y in range(height):\n",
    "        plt.annotate(str(cm[x][y]), xy=(y, x), horizontalalignment='center',verticalalignment='center')"
   ]
  },
  {
   "cell_type": "code",
   "execution_count": null,
   "metadata": {},
   "outputs": [],
   "source": []
  }
 ],
 "metadata": {
  "kernelspec": {
   "display_name": "Python 3",
   "language": "python",
   "name": "python3"
  },
  "language_info": {
   "codemirror_mode": {
    "name": "ipython",
    "version": 3
   },
   "file_extension": ".py",
   "mimetype": "text/x-python",
   "name": "python",
   "nbconvert_exporter": "python",
   "pygments_lexer": "ipython3",
   "version": "3.8.3"
  }
 },
 "nbformat": 4,
 "nbformat_minor": 4
}
